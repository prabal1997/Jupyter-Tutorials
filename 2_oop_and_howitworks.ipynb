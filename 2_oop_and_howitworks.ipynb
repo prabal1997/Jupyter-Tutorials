{
 "cells": [
  {
   "cell_type": "code",
   "execution_count": 1,
   "metadata": {},
   "outputs": [
    {
     "data": {
      "text/plain": [
       "20"
      ]
     },
     "execution_count": 1,
     "metadata": {},
     "output_type": "execute_result"
    }
   ],
   "source": [
    "x = [1, 9, 4];\n",
    "class Consumer:\n",
    "    def __init__(self, w):\n",
    "        self.wealth = w;\n",
    "        \n",
    "    def earn(self, y):\n",
    "        self.wealth += y;\n",
    "        \n",
    "\n",
    "c1 = Consumer(10);\n",
    "dir(c1)    \n",
    "    \n",
    "#NOTE: calling class-object-functions like this mutates the class object...\n",
    "#passed to the function.\n",
    "Consumer.earn(c1, 10)\n",
    "c1.wealth"
   ]
  },
  {
   "cell_type": "code",
   "execution_count": 3,
   "metadata": {},
   "outputs": [
    {
     "data": {
      "image/png": "[encoded data removed]",
      "text/plain": [
       "<matplotlib.figure.Figure at 0x2627fe315c0>"
      ]
     },
     "metadata": {},
     "output_type": "display_data"
    }
   ],
   "source": [
    "import numpy as npy\n",
    "import matplotlib.pyplot as plt\n",
    "\n",
    "class Solow:\n",
    "    \n",
    "    r\"\"\"\n",
    "    Implements the Solow growth model with updation\n",
    "    \n",
    "    ..math::\n",
    "        k_{t+1} = \\frac{s z k^{\\alpha}_t}{1+n} + k_t \\frac{1-d}{1+n}\n",
    "    \"\"\"\n",
    "    \n",
    "    def __init__(self, n, s, d, alpha, z, k):\n",
    "        self.n, self.s, self.d = n, s, d;\n",
    "        self.alpha, self.z, self.k = alpha, z, k;\n",
    "        \n",
    "    def h(self):\n",
    "        \"\"\"\n",
    "        Evaluates the 'h' function\n",
    "        \"\"\"\n",
    "        \n",
    "        temp = self.s * self.z * self.k**self.alpha + (1-self.d)*self.k;\n",
    "        temp /= 1 + self.n;\n",
    "        \n",
    "        return temp;\n",
    "    \n",
    "    def update(self):\n",
    "        self.k = self.h();\n",
    "        \n",
    "    def steady_state(self):\n",
    "        return ((self.s * self.z) / (self.n + self.d)) ** (1/(1-self.alpha));\n",
    "    \n",
    "    def generate_sequence(self, t):\n",
    "        \"Generate and return a time series of length 't'\"\n",
    "        path = [0] * t;\n",
    "        \n",
    "        for idx in range(t):\n",
    "            path[idx] = self.k;\n",
    "            self.update();\n",
    "            \n",
    "        return path;\n",
    "\n",
    "baseline_params = 0.05, 0.25, 0.1, 0.3, 2.0, 1.0;\n",
    "s1 = Solow(*baseline_params);\n",
    "s2 = Solow(*baseline_params);\n",
    "s2.k = 8.0;\n",
    "T = 60;\n",
    "fig, ax = plt.subplots();\n",
    "\n",
    "ax.plot([s1.steady_state()]*T, 'k-', label='steady state');\n",
    "for s in s1, s2:\n",
    "    lbl_string = r\"Capital Series from Initial Value {0}\".format(s.k);\n",
    "    ax.plot(s.generate_sequence(T), 'o-', linewidth=2, alpha=0.6, label=lbl_string);\n",
    "\n",
    "ax.legend(loc=\"lower right\");\n",
    "plt.show();"
   ]
  },
  {
   "cell_type": "code",
   "execution_count": 79,
   "metadata": {},
   "outputs": [
    {
     "name": "stdout",
     "output_type": "stream",
     "text": [
      "25.040024999999744\n",
      "2280468629688\n"
     ]
    }
   ],
   "source": [
    "import numpy as npy\n",
    "import matplotlib.pyplot as plt\n",
    "\n",
    "class Chaos:\n",
    "    \n",
    "    def __len__(self):\n",
    "        return self.r**2;\n",
    "    \n",
    "    def __call__(self, x):\n",
    "        return (x+r**2);\n",
    "    \n",
    "    def __init__(self, x0, r):\n",
    "        \"\"\"\n",
    "        Initialize with state x0 and parameter 'r'.\n",
    "        \"\"\"\n",
    "        self.x, self.r = x0, r;\n",
    "        \n",
    "    def update(self):\n",
    "        '''\n",
    "        Update object state.\n",
    "        '''\n",
    "        \n",
    "        self.x = self.r * self.x*(1-self.x);\n",
    "        \n",
    "    def generate_sequence(self, T):\n",
    "        \"\"\"\n",
    "        Generate a time-series by continually updating the object's data\n",
    "        \"\"\"\n",
    "    \n",
    "        path = [0] * T;\n",
    "        for idx in range(0, T):\n",
    "            path[idx] = self.x;\n",
    "            self.update();\n",
    "        \n",
    "        return path;\n",
    "    \n",
    "c1 = Chaos(0.1, 4);\n",
    "print(c1(9));\n",
    "print(id(Chaos))"
   ]
  },
  {
   "cell_type": "code",
   "execution_count": 25,
   "metadata": {},
   "outputs": [
    {
     "name": "stdout",
     "output_type": "stream",
     "text": [
      "0.205324963388\n"
     ]
    }
   ],
   "source": [
    "#Exercise 1:\n",
    "import numpy as npy\n",
    "\n",
    "class ECDF:\n",
    "    def __init__(self, data_list):\n",
    "        self.observations = npy.asarray(data_list);\n",
    "        self.observations.sort();\n",
    "        \n",
    "    def __call__(self, x):\n",
    "        search_idx = npy.searchsorted(self.observations, x);\n",
    "        probab = sum(self.observations[:search_idx+1])/len(self.observations);\n",
    "        return probab;\n",
    "\n",
    "samples = [npy.random.uniform(0, 1) for idx in range(10)];\n",
    "F = ECDF(samples);\n",
    "\n",
    "print(F(0.5));"
   ]
  },
  {
   "cell_type": "code",
   "execution_count": 4,
   "metadata": {},
   "outputs": [
    {
     "name": "stdout",
     "output_type": "stream",
     "text": [
      "4.0\n"
     ]
    }
   ],
   "source": [
    "#Exercise 2:\n",
    "\n",
    "class Polynomial:\n",
    "    def __init__(self, coeff_array):\n",
    "        self.coeffs = npy.asarray(coeff_array);\n",
    "        \n",
    "    def __call__(self, x):\n",
    "        #create an array of powers of 'x'\n",
    "        x_array = x * npy.ones(self.coeffs.size); x_array[0] = 1;\n",
    "        x_array = npy.cumprod(x_array);\n",
    "        \n",
    "        #multiply the array with the coeffs\n",
    "        return sum(x_array * self.coeffs);\n",
    "    \n",
    "    def derive(self):\n",
    "        self.coeffs = self.coeffs[1:];\n",
    "        self.coeffs = self.coeffs * npy.linspace(1.0, len(self.coeffs), len(self.coeffs));\n",
    "    \n",
    "p = Polynomial([1, 2, 1]);\n",
    "p.derive();\n",
    "print(p(1));"
   ]
  },
  {
   "cell_type": "code",
   "execution_count": 5,
   "metadata": {},
   "outputs": [
    {
     "data": {
      "text/plain": [
       "[1, 2, 3]"
      ]
     },
     "execution_count": 5,
     "metadata": {},
     "output_type": "execute_result"
    }
   ],
   "source": [
    "x = [1, 2, 3, 4];\n",
    "x[0:-1]"
   ]
  },
  {
   "cell_type": "code",
   "execution_count": 106,
   "metadata": {},
   "outputs": [
    {
     "name": "stdout",
     "output_type": "stream",
     "text": [
      "1\n",
      "2\n",
      "3\n",
      "5\n",
      "6\n",
      "7\n"
     ]
    }
   ],
   "source": []
  },
  {
   "cell_type": "code",
   "execution_count": null,
   "metadata": {},
   "outputs": [],
   "source": []
  }
 ],
 "metadata": {
  "kernelspec": {
   "display_name": "Python 3",
   "language": "python",
   "name": "python3"
  },
  "language_info": {
   "codemirror_mode": {
    "name": "ipython",
    "version": 3
   },
   "file_extension": ".py",
   "mimetype": "text/x-python",
   "name": "python",
   "nbconvert_exporter": "python",
   "pygments_lexer": "ipython3",
   "version": "3.5.4"
  }
 },
 "nbformat": 4,
 "nbformat_minor": 2
}
