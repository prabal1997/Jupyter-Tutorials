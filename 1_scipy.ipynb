{
 "cells": [
  {
   "cell_type": "code",
   "execution_count": 169,
   "metadata": {},
   "outputs": [
    {
     "name": "stdout",
     "output_type": "stream",
     "text": [
      "0.07088527963963565 7.673445190520224e-14\n"
     ]
    }
   ],
   "source": [
    "import numpy as npy\n",
    "import scipy.stats as sts\n",
    "import matplotlib.pyplot as plt\n",
    "import scipy.optimize as opt\n",
    "import scipy.integrate as intg\n",
    "import time\n",
    "\n",
    "test_func = lambda x: sin(4*(x-0.25)+x+x**20-1);\n",
    "integral_val, error_val = intg.quad(test_func, 0, 1);\n",
    "print(integral_val, error_val);"
   ]
  },
  {
   "cell_type": "code",
   "execution_count": 207,
   "metadata": {},
   "outputs": [
    {
     "name": "stdout",
     "output_type": "stream",
     "text": [
      "Current middle point is: 0.500000000000000\n",
      "Current middle point is: 0.250000000000000\n",
      "Current middle point is: 0.375000000000000\n",
      "Current middle point is: 0.437500000000000\n",
      "Current middle point is: 0.406250000000000\n",
      "Current middle point is: 0.421875000000000\n",
      "Current middle point is: 0.414062500000000\n",
      "Current middle point is: 0.410156250000000\n",
      "Current middle point is: 0.408203125000000\n",
      "Current middle point is: 0.409179687500000\n",
      "Current middle point is: 0.408691406250000\n",
      "Current middle point is: 0.408447265625000\n",
      "Current middle point is: 0.408325195312500\n",
      "Current middle point is: 0.408264160156250\n",
      "Current middle point is: 0.408294677734375\n",
      "0.408294677734\n"
     ]
    }
   ],
   "source": [
    "#Exercise 1:\n",
    "\n",
    "import numpy as npy\n",
    "\n",
    "def bisect(input_function, start_val, end_val, tol=10e-5):\n",
    "    lower_idx, middle_idx, upper_idx = start_val, mean([start_val, end_val]), end_val;\n",
    "    lower_val, middle_val, upper_val = input_function(npy.array([lower_idx, middle_idx, upper_idx]));\n",
    "    \n",
    "    print(\"Current middle point is: {0:.15f}\".format(middle_idx));\n",
    "    \n",
    "    if (abs(lower_idx-upper_idx) <= tol):\n",
    "        return middle_idx;\n",
    "    else:\n",
    "        if (middle_val == 0):\n",
    "            return middle_idx;\n",
    "        elif (middle_val > 0):\n",
    "            return bisect(input_function, lower_idx, middle_idx, tol);\n",
    "        else:\n",
    "            return bisect(input_function, middle_idx, upper_idx, tol);            \n",
    "            \n",
    "#testing the function\n",
    "f = lambda x: npy.sin(4 * (x-0.25)) + x + x**20 - 1;\n",
    "print(bisect(f, 0, 1));    "
   ]
  },
  {
   "cell_type": "code",
   "execution_count": null,
   "metadata": {},
   "outputs": [],
   "source": []
  }
 ],
 "metadata": {
  "kernelspec": {
   "display_name": "Python 3",
   "language": "python",
   "name": "python3"
  },
  "language_info": {
   "codemirror_mode": {
    "name": "ipython",
    "version": 3
   },
   "file_extension": ".py",
   "mimetype": "text/x-python",
   "name": "python",
   "nbconvert_exporter": "python",
   "pygments_lexer": "ipython3",
   "version": "3.5.4"
  }
 },
 "nbformat": 4,
 "nbformat_minor": 2
}
