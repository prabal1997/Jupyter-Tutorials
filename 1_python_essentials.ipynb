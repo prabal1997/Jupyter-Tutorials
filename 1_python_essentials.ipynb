{
 "cells": [
  {
   "cell_type": "markdown",
   "metadata": {},
   "source": [
    "#STRING FORMATTERS\n",
    "https://www.digitalocean.com/community/tutorials/how-to-use-string-formatters-in-python-3"
   ]
  },
  {
   "cell_type": "code",
   "execution_count": 105,
   "metadata": {},
   "outputs": [
    {
     "name": "stdout",
     "output_type": "stream",
     "text": [
      "New York            8,244,910\n",
      "Los Angeles         3,819,702\n",
      "Chicago             2,707,120\n",
      "Houston             2,145,146\n",
      "Philadelphia        1,536,471\n",
      "Phoenix             1,469,471\n",
      "San Antonio         1,359,758\n",
      "San Diego           1,326,179\n",
      "Dallas              1,223,229\n"
     ]
    }
   ],
   "source": [
    "#This is just an example!\n",
    "file = open('newfile.txt', 'r');\n",
    "for line in file:\n",
    "    if (line[0:1+1] == \"%%\"):\n",
    "        continue;\n",
    "    city_name, pops = line.split(':');\n",
    "    city_name = city_name.title();\n",
    "    pops = '{0:,}'.format(int(pops));\n",
    "    print(city_name.ljust(20) + pops);"
   ]
  },
  {
   "cell_type": "code",
   "execution_count": 192,
   "metadata": {},
   "outputs": [
    {
     "name": "stdout",
     "output_type": "stream",
     "text": [
      "(True, False, True)\n"
     ]
    }
   ],
   "source": [
    "#NOTE the following code AUTOMATICALLY makes a tuple\n",
    "bool_arr = True, False, True;\n",
    "print(bool_arr);"
   ]
  },
  {
   "cell_type": "code",
   "execution_count": 268,
   "metadata": {},
   "outputs": [
    {
     "name": "stdout",
     "output_type": "stream",
     "text": [
      "10\n",
      "50\n",
      "3\n"
     ]
    }
   ],
   "source": [
    "#Exercise 1\n",
    "#PART 1: INNER PRODUCT\n",
    "vec_1, vec_2 = [1, 2, 3], [3, 2, 1];\n",
    "inner_product = sum([ (v1 * v2) for v1, v2 in zip(vec_1, vec_2) ]);\n",
    "print(inner_product);\n",
    "\n",
    "#PART 2: EVEN NUMBERS\n",
    "even_array_len = sum([(x%2==0) for x in range(100)]);\n",
    "print(even_array_len);\n",
    "\n",
    "#PART 3: EVEN PAIR COUNT\n",
    "pairs = (2, 5), (4, 2), (9, 8), (12, 10), (2, 8);\n",
    "even_pair_count = sum([ (pair[0]%2 == 0 and pair[1]%2 == 0) for pair in pairs ]);\n",
    "print(even_pair_count);"
   ]
  },
  {
   "cell_type": "code",
   "execution_count": 280,
   "metadata": {},
   "outputs": [
    {
     "data": {
      "text/plain": [
       "16"
      ]
     },
     "execution_count": 280,
     "metadata": {},
     "output_type": "execute_result"
    }
   ],
   "source": [
    "#Exercise 2\n",
    "def p(x, coeffs):\n",
    "    coeffs.reverse();\n",
    "    \n",
    "    total_sum = 0;\n",
    "    for power, coeff in enumerate(coeffs):\n",
    "        total_sum += coeff*(x**power);\n",
    "    \n",
    "    return total_sum;\n",
    "\n",
    "print(p(-5, [1, 2, 1]));"
   ]
  },
  {
   "cell_type": "code",
   "execution_count": 296,
   "metadata": {},
   "outputs": [
    {
     "name": "stdout",
     "output_type": "stream",
     "text": [
      "4\n"
     ]
    }
   ],
   "source": [
    "#Exercise 3\n",
    "upper_count = lambda string_input: sum([( (k == k.upper()) and (k.isalpha()) ) for k in string_input]);\n",
    "print(upper_count(\"TESt Input\"));"
   ]
  },
  {
   "cell_type": "code",
   "execution_count": 4,
   "metadata": {},
   "outputs": [
    {
     "data": {
      "text/plain": [
       "False"
      ]
     },
     "execution_count": 4,
     "metadata": {},
     "output_type": "execute_result"
    }
   ],
   "source": [
    "#Exercise 4\n",
    "check_subset = lambda seq_a, seq_b:  sum([True for k in seq_a if (k in seq_b)]) == len(seq_a)\n",
    "check_subset([1, 2, 5], [1, 2, 3, 4])"
   ]
  },
  {
   "cell_type": "code",
   "execution_count": 38,
   "metadata": {},
   "outputs": [
    {
     "data": {
      "image/png": "[encoded data removed]",
      "text/plain": [
       "<matplotlib.figure.Figure at 0x13bdfcefa58>"
      ]
     },
     "metadata": {},
     "output_type": "display_data"
    }
   ],
   "source": [
    "#Exercise 5: INCOMPLETE\n",
    "import numpy as npy\n",
    "import matplotlib.pyplot as plt\n",
    "\n",
    "def give_func_val(input_range, func_input, grid_points, x_val):\n",
    "    div_grid = npy.linspace(input_range[0], input_range[1], grid_points);\n",
    "    \n",
    "    return [func_input(input_val) for input_val in div_grid];\n",
    "    \n",
    "plt.plot(give_func_val([0, 100], lambda x: npy.sqrt(x), 1000), 'b-', label=\"LINE TBH\");\n",
    "plt.legend();\n",
    "plt.show();\n"
   ]
  },
  {
   "cell_type": "code",
   "execution_count": null,
   "metadata": {},
   "outputs": [],
   "source": []
  },
  {
   "cell_type": "code",
   "execution_count": null,
   "metadata": {},
   "outputs": [],
   "source": []
  }
 ],
 "metadata": {
  "kernelspec": {
   "display_name": "Python 3",
   "language": "python",
   "name": "python3"
  },
  "language_info": {
   "codemirror_mode": {
    "name": "ipython",
    "version": 3
   },
   "file_extension": ".py",
   "mimetype": "text/x-python",
   "name": "python",
   "nbconvert_exporter": "python",
   "pygments_lexer": "ipython3",
   "version": "3.5.4"
  }
 },
 "nbformat": 4,
 "nbformat_minor": 2
}
