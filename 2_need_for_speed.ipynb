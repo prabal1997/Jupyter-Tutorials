{
 "cells": [
  {
   "cell_type": "code",
   "execution_count": 67,
   "metadata": {},
   "outputs": [
    {
     "name": "stdout",
     "output_type": "stream",
     "text": [
      "108 ns ± 0.678 ns per loop (mean ± std. dev. of 7 runs, 10000000 loops each)\n"
     ]
    }
   ],
   "source": [
    "#NOTE: use 'timeit' for PRECISE time measurement on any system\n",
    "import random\n",
    "import numpy as np\n",
    "import quantecon as qe\n",
    "import math\n",
    "\n",
    "def f(x):\n",
    "    x += 2;\n",
    "    return x;\n",
    "\n",
    "%timeit f(2)"
   ]
  },
  {
   "cell_type": "code",
   "execution_count": 90,
   "metadata": {},
   "outputs": [
    {
     "name": "stdout",
     "output_type": "stream",
     "text": [
      "TOC: Elapsed: 0:00:0.06\n",
      "0.06\n"
     ]
    }
   ],
   "source": [
    "import quantecon as qtecn;\n",
    "import numpy as npy\n",
    "from numba import jit\n",
    "from numba import vectorize\n",
    "\n",
    "@vectorize('float64(float64, float64)', target='parallel')\n",
    "def g(x, y):\n",
    "    return npy.cos(x**2 + y**2) / (1 + x**2 + y**2);\n",
    "\n",
    "#NOTE: NUMBA treats ALL global variables as constants on its first exectuion - ...\n",
    "#meaning that on the second execution, any changes to global variable(s) will be IGNORED\n",
    "#Thus, we should NOT use global variables\n",
    "\n",
    "\n",
    "qe.util.tic();\n",
    "g(npy.random.randn(1000000), npy.random.randn(1000000));\n",
    "print(qe.util.toc());"
   ]
  },
  {
   "cell_type": "code",
   "execution_count": 171,
   "metadata": {},
   "outputs": [
    {
     "name": "stdout",
     "output_type": "stream",
     "text": [
      "f\n",
      "g\n",
      "-0.366512920582\n"
     ]
    }
   ],
   "source": [
    "from numba import vectorize\n",
    "from numba import jit\n",
    "from joblib import Memory\n",
    "import numpy as npy\n",
    "\n",
    "def check_nonneg(func):\n",
    "    print(func.__name__);\n",
    "    return func;\n",
    "\n",
    "@check_nonneg\n",
    "def f(x):\n",
    "    return npy.log(npy.log(x));\n",
    "\n",
    "@check_nonneg\n",
    "def g(x):\n",
    "    return npy.sqrt(42*x);\n",
    "\n",
    "print(f(2));"
   ]
  },
  {
   "cell_type": "code",
   "execution_count": 179,
   "metadata": {},
   "outputs": [
    {
     "name": "stdout",
     "output_type": "stream",
     "text": [
      "10 16.1\n",
      "2 3.22\n"
     ]
    }
   ],
   "source": [
    "class Car:\n",
    "    \n",
    "    def __init__(self, miles=1000):\n",
    "        self._miles = miles;\n",
    "        self._kms = miles * 1.61;\n",
    "        \n",
    "    @property\n",
    "    def miles(self):\n",
    "        return self._miles;\n",
    "    \n",
    "    @property\n",
    "    def kms(self):\n",
    "        return self._kms;\n",
    "    \n",
    "    @miles.setter\n",
    "    def miles(self, input):\n",
    "        self._miles = input;\n",
    "        self._kms = input*1.61;\n",
    "        \n",
    "    @kms.setter\n",
    "    def kms(self, input):\n",
    "        self._kms = input;\n",
    "        self._miles = input/1.61;\n",
    "    \n",
    "c1 = Car(10);\n",
    "print(c1.miles, c1.kms);\n",
    "c1.miles = 2;\n",
    "print(c1.miles, c1.kms);"
   ]
  },
  {
   "cell_type": "code",
   "execution_count": 210,
   "metadata": {},
   "outputs": [
    {
     "name": "stdout",
     "output_type": "stream",
     "text": [
      "True\n",
      "0 True\n",
      "1 True\n",
      "2 False\n",
      "3 False\n",
      "4 True\n",
      "5 True\n",
      "6 True\n",
      "7 False\n",
      "8 False\n"
     ]
    }
   ],
   "source": [
    "import numpy as npy\n",
    "\n",
    "def f(n):\n",
    "    i = 1;\n",
    "    while (i <= n):\n",
    "        yield (npy.random.uniform(0, 1) < 0.5);\n",
    "        i += 1;\n",
    "        \n",
    "n = 10;\n",
    "draws = f(n);\n",
    "print(next(draws));\n",
    "for idx, element in enumerate(draws):\n",
    "    print(idx, element);"
   ]
  },
  {
   "cell_type": "code",
   "execution_count": 231,
   "metadata": {},
   "outputs": [
    {
     "name": "stdout",
     "output_type": "stream",
     "text": [
      "0 148.97468562406493\n",
      "1 -1.3961939373154524\n",
      "2 12.08906709015669\n",
      "3 0.12384772987214156\n",
      "4 206.38614365568958\n",
      "5 0.21152600963635124\n",
      "6 55.29560996029825\n",
      "7 1.1630198635409175\n",
      "8 5.0306147985750425\n",
      "9 -0.26436775727587275\n",
      "10 13.103910242047526\n",
      "11 -0.14423825737825566\n",
      "12 63.374036239417286\n",
      "13 -1.0381487061704204\n",
      "14 26.874971780168522\n",
      "15 -0.432690077322034\n",
      "16 162.957389542392\n",
      "17 0.1161052759490219\n",
      "18 81.85964174551229\n",
      "19 1.4637780427356084\n",
      "20 45.215546041636955\n",
      "21 -0.7699425040529544\n",
      "22 88.61412100173028\n",
      "23 -0.35249921001350687\n",
      "24 50.9176741665445\n"
     ]
    }
   ],
   "source": [
    "#Exercise 2:\n",
    "\n",
    "def give_random_num(input_val):\n",
    "    i = 0;\n",
    "    while (i < input_val):\n",
    "        yield (npy.random.randn() if (i%2) else npy.random.exponential(100));\n",
    "        i += 1;\n",
    "\n",
    "custom_iter = give_random_num(25);\n",
    "\n",
    "for idx, element in enumerate(custom_iter):\n",
    "    print(idx, element);"
   ]
  },
  {
   "cell_type": "code",
   "execution_count": null,
   "metadata": {},
   "outputs": [],
   "source": []
  }
 ],
 "metadata": {
  "kernelspec": {
   "display_name": "Python 3",
   "language": "python",
   "name": "python3"
  },
  "language_info": {
   "codemirror_mode": {
    "name": "ipython",
    "version": 3
   },
   "file_extension": ".py",
   "mimetype": "text/x-python",
   "name": "python",
   "nbconvert_exporter": "python",
   "pygments_lexer": "ipython3",
   "version": "3.5.4"
  }
 },
 "nbformat": 4,
 "nbformat_minor": 2
}
